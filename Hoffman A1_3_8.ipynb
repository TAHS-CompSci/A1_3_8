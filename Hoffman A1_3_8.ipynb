{
 "cells": [
  {
   "cell_type": "markdown",
   "metadata": {},
   "source": [
    "A1_3_8 Hoffman Programmer: Tobin Hoffman Notes for activity 1_3_8 While loops"
   ]
  },
  {
   "cell_type": "code",
   "execution_count": 1,
   "metadata": {},
   "outputs": [],
   "source": [
    "def validate():\n",
    "     guess = '1'\n",
    "     answer = 'hangman word'\n",
    "     while guess not in answer:\n",
    "         guess = raw_input('Name a letter in \\'' + answer + '\\': ')\n",
    "     print('Thank you!')"
   ]
  },
  {
   "cell_type": "code",
   "execution_count": 3,
   "metadata": {},
   "outputs": [],
   "source": [
    "from __future__ import print_function\n",
    "import random\n",
    " \n",
    "def guess_winner(players=('Amy', 'Bill', 'Cathy', 'Dale')):\n",
    "    '''Summarize the function in this docstring.\n",
    "     \n",
    "    Provide descriptions for the arguments and say what type each one is.\n",
    "    Describe the type and meaning of the value returned.\n",
    "    '''\n",
    "    winner = random.choice(players) \n",
    "\n",
    "    \n",
    "    print('Guess which of these people won the lottery: ',end='')\n",
    "    for p in players[:len(players)-1]: \n",
    "        print(p+', ', end='')\n",
    "    print(players[len(players)-1]) \n",
    "\n",
    "    \n",
    "    guesses = 1 \n",
    "    while input() != winner:\n",
    "        print('Guess again!')\n",
    "        guesses += 1\n",
    "    print('You guessed in', guesses, 'guesses!')\n",
    "    return guesses"
   ]
  },
  {
   "cell_type": "code",
   "execution_count": 18,
   "metadata": {},
   "outputs": [],
   "source": [
    "def goguess():\n",
    "    print ('Guess a my number, it between 1 and 20')\n",
    "    guess = int(input())\n",
    "    ans = random.randint(1, 21)\n",
    "    guesscorrect = 0\n",
    "    totalguess = 0\n",
    "    while guesscorrect == 0:\n",
    "        if guess == ans:\n",
    "            print ('corect my number was', ans,'!')\n",
    "            print ('total guesses were', totalguess)\n",
    "            guesscorrect += 1\n",
    "            totalguess += 1\n",
    "        if guess < ans:\n",
    "            totalguess += 1\n",
    "            print ('guess is to low')\n",
    "            guess = int(input())\n",
    "        if guess > ans:    \n",
    "            totalguess += 1\n",
    "            print ('guess is to high')\n",
    "            guess = int(input())"
   ]
  },
  {
   "cell_type": "code",
   "execution_count": 19,
   "metadata": {},
   "outputs": [
    {
     "name": "stdout",
     "output_type": "stream",
     "text": [
      "Guess a my number, it between 1 and 20\n",
      "1\n",
      "guess is to low\n",
      "20\n",
      "guess is to high\n",
      "10\n",
      "guess is to high\n",
      "7\n",
      "corect my number was 7 !\n",
      "total guesses were 3\n"
     ]
    }
   ],
   "source": [
    "goguess()"
   ]
  },
  {
   "cell_type": "code",
   "execution_count": null,
   "metadata": {},
   "outputs": [],
   "source": []
  },
  {
   "cell_type": "code",
   "execution_count": null,
   "metadata": {},
   "outputs": [],
   "source": []
  }
 ],
 "metadata": {
  "kernelspec": {
   "display_name": "Python 3",
   "language": "python",
   "name": "python3"
  },
  "language_info": {
   "codemirror_mode": {
    "name": "ipython",
    "version": 3
   },
   "file_extension": ".py",
   "mimetype": "text/x-python",
   "name": "python",
   "nbconvert_exporter": "python",
   "pygments_lexer": "ipython3",
   "version": "3.7.4"
  }
 },
 "nbformat": 4,
 "nbformat_minor": 2
}
