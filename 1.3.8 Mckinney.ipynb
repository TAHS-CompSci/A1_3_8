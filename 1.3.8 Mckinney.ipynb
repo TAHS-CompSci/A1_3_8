{
 "cells": [
  {
   "cell_type": "code",
   "execution_count": 14,
   "metadata": {},
   "outputs": [],
   "source": [
    "ticket =[6,11,33,28,45]\n",
    "winners = [6,10,32,28,45]\n",
    "\n",
    "def matches(ticket,winners):\n",
    "    while True:\n",
    "        common=0\n",
    "        for number in winners:\n",
    "            if number in ticket:\n",
    "                common = common+1\n",
    "        break\n",
    "       \n",
    "    \n",
    "    \n",
    "    print('here is your number of matched numbers:')\n",
    "    print(common)\n"
   ]
  },
  {
   "cell_type": "code",
   "execution_count": 15,
   "metadata": {},
   "outputs": [
    {
     "name": "stdout",
     "output_type": "stream",
     "text": [
      "here is your number of matched numbers:\n",
      "3\n"
     ]
    }
   ],
   "source": [
    "matches(ticket,winners)"
   ]
  },
  {
   "cell_type": "code",
   "execution_count": null,
   "metadata": {},
   "outputs": [],
   "source": []
  }
 ],
 "metadata": {
  "kernelspec": {
   "display_name": "Python 3",
   "language": "python",
   "name": "python3"
  },
  "language_info": {
   "codemirror_mode": {
    "name": "ipython",
    "version": 3
   },
   "file_extension": ".py",
   "mimetype": "text/x-python",
   "name": "python",
   "nbconvert_exporter": "python",
   "pygments_lexer": "ipython3",
   "version": "3.7.4"
  }
 },
 "nbformat": 4,
 "nbformat_minor": 2
}
