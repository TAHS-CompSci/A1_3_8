{
 "cells": [
  {
   "cell_type": "code",
   "execution_count": 3,
   "metadata": {},
   "outputs": [
    {
     "name": "stdout",
     "output_type": "stream",
     "text": [
      "Insert guess here.3\n"
     ]
    }
   ],
   "source": [
    "guess = input('Insert guess here.')\n",
    "COMPnum = 4\n",
    "\n",
    "def hilo(guess, COMPnum):\n",
    "    while True:\n",
    "        guessInt = int(guess)\n",
    "        if COMPnum == guessInt:\n",
    "            print('Congrats you found the number')\n",
    "            break\n",
    "        elif COMPnum > guessInt:\n",
    "            print('Number is too small. try again.')\n",
    "            guess = input('Insert guess here.')\n",
    "        elif COMPnum < guessInt:\n",
    "            print('Number is too big. try again')\n",
    "            guess = input('Insert guess here.')\n",
    "        else:\n",
    "            print('Error. Restart program.')\n",
    "        \n",
    "        \n",
    "        \n",
    "def run():\n",
    "    hilo(guess, COMPnum)\n",
    "    return('Game Over. thanks for playing')"
   ]
  },
  {
   "cell_type": "code",
   "execution_count": 4,
   "metadata": {},
   "outputs": [
    {
     "name": "stdout",
     "output_type": "stream",
     "text": [
      "Number is too small. try again.\n",
      "Insert guess here.5\n",
      "Number is too big. try again\n",
      "Insert guess here.4\n",
      "Congrats you found the number\n"
     ]
    },
    {
     "data": {
      "text/plain": [
       "'Game Over. thanks for playing'"
      ]
     },
     "execution_count": 4,
     "metadata": {},
     "output_type": "execute_result"
    }
   ],
   "source": [
    "run()"
   ]
  },
  {
   "cell_type": "code",
   "execution_count": null,
   "metadata": {},
   "outputs": [],
   "source": []
  }
 ],
 "metadata": {
  "kernelspec": {
   "display_name": "Python 3",
   "language": "python",
   "name": "python3"
  },
  "language_info": {
   "codemirror_mode": {
    "name": "ipython",
    "version": 3
   },
   "file_extension": ".py",
   "mimetype": "text/x-python",
   "name": "python",
   "nbconvert_exporter": "python",
   "pygments_lexer": "ipython3",
   "version": "3.7.4"
  }
 },
 "nbformat": 4,
 "nbformat_minor": 2
}
