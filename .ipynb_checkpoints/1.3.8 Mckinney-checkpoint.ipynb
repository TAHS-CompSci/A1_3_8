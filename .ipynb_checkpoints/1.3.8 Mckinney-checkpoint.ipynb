{
 "cells": [
  {
   "cell_type": "code",
   "execution_count": null,
   "metadata": {},
   "outputs": [],
   "source": [
    "secret = \"peanut butter\"\n",
    "\n",
    "def hangman(letter):\n",
    "    while True:\n",
    "        if letter in secret:\n",
    "            print(letter)\n",
    "        else:\n",
    "            False break\n",
    "def main():\n",
    "    hangman(y)\n",
    "    return 'done'\n",
    "        "
   ]
  }
 ],
 "metadata": {
  "kernelspec": {
   "display_name": "Python 3",
   "language": "python",
   "name": "python3"
  },
  "language_info": {
   "codemirror_mode": {
    "name": "ipython",
    "version": 3
   },
   "file_extension": ".py",
   "mimetype": "text/x-python",
   "name": "python",
   "nbconvert_exporter": "python",
   "pygments_lexer": "ipython3",
   "version": "3.7.4"
  }
 },
 "nbformat": 4,
 "nbformat_minor": 2
}
