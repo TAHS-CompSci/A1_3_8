{
 "cells": [
  {
   "cell_type": "markdown",
   "metadata": {},
   "source": [
    "A1_3_8 Walz\n",
    "Programmer:Gavin Walz\n",
    "Notes for Activity 1_3_8 While loops"
   ]
  },
  {
   "cell_type": "code",
   "execution_count": 1,
   "metadata": {},
   "outputs": [],
   "source": [
    "def validate():\n",
    "     guess = '1' # initialization with a bad guess\n",
    "     answer = 'hangman word'\n",
    "     while guess not in answer:\n",
    "         guess = raw_input('Name a letter in \\'' + answer + '\\': ')\n",
    "     print('Thank you!')"
   ]
  },
  {
   "cell_type": "code",
   "execution_count": 2,
   "metadata": {},
   "outputs": [],
   "source": [
    "from __future__ import print_function\n",
    "import random\n",
    " \n",
    "def guess_winner(players=('Amy', 'Bill', 'Cathy', 'Dale')):\n",
    "    winner = random.choice(players) \n",
    "\n",
    "    print('Guess which of these people won the lottery: ',end='')\n",
    "    for p in players[:len(players)-1]: \n",
    "        print(p+', ', end='')\n",
    "    print(players[len(players)-1]) \n",
    "\n",
    "    guesses = 1 \n",
    "    while input() != winner:\n",
    "        print('Guess again!')\n",
    "        guesses += 1\n",
    "    print('You guessed in', guesses, 'guesses!')\n",
    "    return guesses"
   ]
  },
  {
   "cell_type": "code",
   "execution_count": 3,
   "metadata": {},
   "outputs": [],
   "source": [
    "def goguess():\n",
    "    print ('I have a number between 1 and 20 inclusive')\n",
    "    guess=int(input())\n",
    "    ans=random.randint(1,21)\n",
    "    guesscorrect=0\n",
    "    totalguess=0\n",
    "    while guesscorrect==0:\n",
    "        if guess==ans:\n",
    "            totalguess+=1\n",
    "            print('Right! My number was', ans,'!','You guessed it in', totalguess,'guesses!')\n",
    "            guesscorrect+=1\n",
    "        if guess < ans:\n",
    "            print(guess,'is too low.')\n",
    "            totalguess+=1\n",
    "            guess = int(input())\n",
    "        if guess > ans:\n",
    "            print (guess,'is too high')\n",
    "            totalguess+=1\n",
    "            guess=int(input())"
   ]
  },
  {
   "cell_type": "code",
   "execution_count": 4,
   "metadata": {},
   "outputs": [
    {
     "name": "stdout",
     "output_type": "stream",
     "text": [
      "I have a number between 1 and 20 inclusive\n",
      "15\n",
      "15 is too high\n",
      "1\n",
      "12\n",
      "12 is too high\n",
      "2\n",
      "8\n",
      "8 is too high\n",
      "3\n",
      "6\n",
      "6 is too low.\n",
      "4\n",
      "7\n",
      "Right! My number was 7 ! You guessed it in 5 guesses!\n"
     ]
    }
   ],
   "source": [
    "goguess()"
   ]
  },
  {
   "cell_type": "code",
   "execution_count": null,
   "metadata": {},
   "outputs": [],
   "source": []
  },
  {
   "cell_type": "code",
   "execution_count": null,
   "metadata": {},
   "outputs": [],
   "source": []
  }
 ],
 "metadata": {
  "kernelspec": {
   "display_name": "Python 3",
   "language": "python",
   "name": "python3"
  },
  "language_info": {
   "codemirror_mode": {
    "name": "ipython",
    "version": 3
   },
   "file_extension": ".py",
   "mimetype": "text/x-python",
   "name": "python",
   "nbconvert_exporter": "python",
   "pygments_lexer": "ipython3",
   "version": "3.7.4"
  }
 },
 "nbformat": 4,
 "nbformat_minor": 2
}
