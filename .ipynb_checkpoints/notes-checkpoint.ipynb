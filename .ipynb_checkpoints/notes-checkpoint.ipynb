{
 "cells": [
  {
   "cell_type": "code",
   "execution_count": 1,
   "metadata": {},
   "outputs": [],
   "source": [
    "def validate():\n",
    "     guess = '1' # initialization with a bad guess\n",
    "     answer = 'hangman word'\n",
    "     while guess not in answer:\n",
    "         guess = input('Name a letter in \\'' + answer + '\\': ')\n",
    "     print('Thank you!')"
   ]
  },
  {
   "cell_type": "code",
   "execution_count": 2,
   "metadata": {},
   "outputs": [],
   "source": [
    "from __future__ import print_function\n",
    "import random\n",
    " \n",
    "def guess_winner(players=('Amy', 'Bill', 'Cathy', 'Dale')):\n",
    "    '''Summarize the function in this docstring.\n",
    "     \n",
    "    Provide descriptions for the arguments and say what type each one is.\n",
    "    Describe the type and meaning of the value returned.\n",
    "    '''\n",
    "    winner = random.choice(players) \n",
    "\n",
    "    ####\n",
    "    # s\n",
    "    ####\n",
    "    print('Guess which of these people won the lottery: ',end='')\n",
    "    for p in players[:len(players)-1]: # explain index here\n",
    "        print(p+', ', end='')\n",
    "    print(players[len(players)-1]) # explain this line here\n",
    "\n",
    "    ####\n",
    "    # Summarize the following section of code here\n",
    "    ####\n",
    "    guesses = 1 \n",
    "    while input() != winner:\n",
    "        print('Guess again!')\n",
    "        guesses += 1\n",
    "    print('You guessed in', guesses, 'guesses!')\n",
    "    return guesses"
   ]
  },
  {
   "cell_type": "code",
   "execution_count": null,
   "metadata": {},
   "outputs": [
    {
     "name": "stdout",
     "output_type": "stream",
     "text": [
      "Guess which of these people won the lottery: Amy, Bill, Cathy, Dale\n"
     ]
    }
   ],
   "source": [
    "guess_winner()"
   ]
  },
  {
   "cell_type": "code",
   "execution_count": null,
   "metadata": {},
   "outputs": [],
   "source": [
    "import random\n",
    "\n",
    "def goguess(numbers=(1,2,3,4,5,6,7,8,9,10,11,12,13,14,15,16,17,18,19,20)):\n",
    "    winner = random.choice(numbers)\n",
    "    print('I have a number between 1 and 20. What is it?' ,end= '')\n",
    "    for n in numbers[:len(numbers)-1]:\n",
    "        print(n+', ', end='')\n",
    "    print(numbers[len(numbers)-1])\n",
    "    guesses = 1\n",
    "    if input() < winner:\n",
    "        print('Too low, guess again')\n",
    "    if input() > winner:\n",
    "        print('Is too High, guess again')\n",
    "        guesses += 1\n",
    "    print('You guessed in', guesses, 'guesses!')\n",
    "    return winner"
   ]
  },
  {
   "cell_type": "code",
   "execution_count": null,
   "metadata": {},
   "outputs": [],
   "source": [
    "goguess()"
   ]
  },
  {
   "cell_type": "code",
   "execution_count": null,
   "metadata": {},
   "outputs": [],
   "source": []
  }
 ],
 "metadata": {
  "kernelspec": {
   "display_name": "Python 3",
   "language": "python",
   "name": "python3"
  },
  "language_info": {
   "codemirror_mode": {
    "name": "ipython",
    "version": 3
   },
   "file_extension": ".py",
   "mimetype": "text/x-python",
   "name": "python",
   "nbconvert_exporter": "python",
   "pygments_lexer": "ipython3",
   "version": "3.7.4"
  }
 },
 "nbformat": 4,
 "nbformat_minor": 2
}
