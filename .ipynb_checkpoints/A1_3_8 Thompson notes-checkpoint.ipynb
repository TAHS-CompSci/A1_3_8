{
 "cells": [
  {
   "cell_type": "markdown",
   "metadata": {},
   "source": [
    "While Loops:\n",
    "- A while loop is controlled by a conditional expression\n",
    "- Any Boolean operator like ==, !=, or <=, can be used in the conditional expression"
   ]
  },
  {
   "cell_type": "markdown",
   "metadata": {},
   "source": [
    "Conclusion:\n",
    "\n",
    "1. Describe the difference between a while loop and a for loop.\n",
    "- A while loop only runs while it is true and a for loop will run for each individual item within an argument\n",
    "\n",
    "2. Reflect on how effectively you and your partner worked together. Individually, describe the strengths of your process and style, and describe what could be improved and how.\n",
    "- i didint work with a partner"
   ]
  },
  {
   "cell_type": "code",
   "execution_count": 16,
   "metadata": {},
   "outputs": [
    {
     "name": "stdout",
     "output_type": "stream",
     "text": [
      "12\n",
      "Guess is to low plz try again\n",
      "14\n",
      "Guess is to low plz try again\n",
      "16\n",
      "Guess is to low plz try again\n",
      "19\n",
      "Guess is to high plz try again\n",
      "18\n",
      "Corect! That took you 5  trys\n"
     ]
    }
   ],
   "source": [
    "import random\n",
    "\n",
    "def goguess():\n",
    "    loop = False\n",
    "    guess = int(input())\n",
    "    answer = random.randint(1,20)\n",
    "    guesses = 1\n",
    "    while loop != True:\n",
    "        if guess > answer:\n",
    "            print('Guess is to high plz try again')\n",
    "            guesses += 1\n",
    "            guess = int(input())\n",
    "        if guess < answer:\n",
    "            print('Guess is to low plz try again')\n",
    "            guesses += 1\n",
    "            guess = int(input())\n",
    "        if guess == answer:\n",
    "            loop = True\n",
    "    print('Corect! That took you', guesses, ' trys')\n",
    "    \n",
    "goguess()"
   ]
  },
  {
   "cell_type": "code",
   "execution_count": 14,
   "metadata": {},
   "outputs": [
    {
     "name": "stdout",
     "output_type": "stream",
     "text": [
      "se\n",
      "no\n",
      "gr\n",
      "yes\n",
      "done\n"
     ]
    }
   ],
   "source": [
    "def fa():\n",
    "    loop = False\n",
    "    ans = \"yes\"\n",
    "    while loop is False:\n",
    "        guess = input()\n",
    "        if guess != ans:\n",
    "            guess = input()\n",
    "        if guess == ans:\n",
    "            loop = True\n",
    "    if loop == True:\n",
    "        print(\"done\")\n",
    "            \n",
    "fa()"
   ]
  },
  {
   "cell_type": "code",
   "execution_count": 9,
   "metadata": {},
   "outputs": [
    {
     "name": "stdout",
     "output_type": "stream",
     "text": [
      "what is this\n"
     ]
    }
   ],
   "source": [
    "print('what is this')\n"
   ]
  }
 ],
 "metadata": {
  "kernelspec": {
   "display_name": "Python 3",
   "language": "python",
   "name": "python3"
  },
  "language_info": {
   "codemirror_mode": {
    "name": "ipython",
    "version": 3
   },
   "file_extension": ".py",
   "mimetype": "text/x-python",
   "name": "python",
   "nbconvert_exporter": "python",
   "pygments_lexer": "ipython3",
   "version": "3.7.4"
  }
 },
 "nbformat": 4,
 "nbformat_minor": 2
}
