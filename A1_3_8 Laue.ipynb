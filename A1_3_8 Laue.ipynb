{
 "cells": [
  {
   "cell_type": "code",
   "execution_count": null,
   "metadata": {},
   "outputs": [],
   "source": [
    "\"\"\"\n",
    "Activity 1.3.8 Notes, Questions, and Coding\n",
    "Jesse Laue\n",
    "Going through the lesson and taking notes, answering activity and conclusion questions, and coding.\n",
    "\"\"\""
   ]
  },
  {
   "cell_type": "code",
   "execution_count": null,
   "metadata": {},
   "outputs": [],
   "source": [
    "\"\"\"\n",
    "Notes\n",
    "\"\"\""
   ]
  },
  {
   "cell_type": "code",
   "execution_count": null,
   "metadata": {},
   "outputs": [],
   "source": [
    "\"\"\"\n",
    "Activity Questions andConclusion Questions and answers\n",
    "\"\"\""
   ]
  },
  {
   "cell_type": "code",
   "execution_count": null,
   "metadata": {},
   "outputs": [],
   "source": [
    "#5\n",
    "Line two is necassry to set the conditional statement/"
   ]
  },
  {
   "cell_type": "code",
   "execution_count": null,
   "metadata": {},
   "outputs": [],
   "source": [
    "\"\"\"\n",
    "Concluding Questions \n",
    "\"\"\""
   ]
  },
  {
   "cell_type": "code",
   "execution_count": null,
   "metadata": {},
   "outputs": [],
   "source": [
    "\"\"\"\n",
    "Coding\n",
    "\"\"\""
   ]
  },
  {
   "cell_type": "code",
   "execution_count": null,
   "metadata": {},
   "outputs": [],
   "source": [
    "#5\n",
    "def validate():\n",
    "     guess = '1' # initialization with a bad guess\n",
    "     answer = 'hangman word'\n",
    "     while guess not in answer:\n",
    "         guess = input('Name a letter in \\'' + answer + '\\': ')\n",
    "     print('Thank you!')\n",
    "    \n",
    "validate()"
   ]
  },
  {
   "cell_type": "code",
   "execution_count": 3,
   "metadata": {},
   "outputs": [
    {
     "name": "stdout",
     "output_type": "stream",
     "text": [
      "Guess which of these people won the lottery: Amy, Bill, Cathy, Dale\n",
      "amy\n",
      "Guess again!\n",
      "bill\n",
      "Guess again!\n",
      "cathy\n",
      "Guess again!\n",
      "dale\n",
      "Guess again!\n",
      "Dale\n",
      "Guess again!\n",
      "Cathy\n",
      "You guessed in 6 guesses!\n"
     ]
    },
    {
     "data": {
      "text/plain": [
       "6"
      ]
     },
     "execution_count": 3,
     "metadata": {},
     "output_type": "execute_result"
    }
   ],
   "source": [
    "#6\n",
    "from __future__ import print_function\n",
    "import random\n",
    " \n",
    "def guess_winner(players=('Amy', 'Bill', 'Cathy', 'Dale')):\n",
    "    '''Summarize the function in this docstring.\n",
    "     \n",
    "    Provide descriptions for the arguments and say what type each one is.\n",
    "    Describe the type and meaning of the value returned.\n",
    "    '''\n",
    "    winner = random.choice(players) \n",
    "\n",
    "    ####\n",
    "    # Summarize the following section of code here\n",
    "    ####\n",
    "    print('Guess which of these people won the lottery: ',end='')\n",
    "    for p in players[:len(players)-1]: # It is running it  and essentially making it so it goes 0,1,2,3 and not 1,2,3,4 because there is no 4th player in the code.\n",
    "        print(p+', ', end='')\n",
    "    print(players[len(players)-1]) # This line of code prints the players names without showing the quoatations or the parentheses.\n",
    "\n",
    "    ####\n",
    "    # Summarize the following section of code here\n",
    "    ####\n",
    "    guesses = 1 # This section is putting guesses to 1 because you cant win with not guessing, your always going to at least have one guess.\n",
    "    while input() != winner:\n",
    "        print('Guess again!')\n",
    "        guesses += 1\n",
    "    print('You guessed in', guesses, 'guesses!')\n",
    "    return guesses\n",
    "\n",
    "guess_winner()"
   ]
  },
  {
   "cell_type": "code",
   "execution_count": null,
   "metadata": {},
   "outputs": [],
   "source": []
  }
 ],
 "metadata": {
  "kernelspec": {
   "display_name": "Python 3",
   "language": "python",
   "name": "python3"
  }
 },
 "nbformat": 4,
 "nbformat_minor": 2
}
