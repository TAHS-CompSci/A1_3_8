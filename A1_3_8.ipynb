{
 "cells": [
  {
   "cell_type": "code",
   "execution_count": 1,
   "metadata": {},
   "outputs": [
    {
     "name": "stdout",
     "output_type": "stream",
     "text": [
      "Activating auto-logging. Current session state plus future input saved.\n",
      "Filename       : JDoeBSmitch1_3_8.log\n",
      "Mode           : backup\n",
      "Output logging : True\n",
      "Raw input log  : True\n",
      "Timestamping   : True\n",
      "State          : active\n"
     ]
    }
   ],
   "source": [
    "%logstart -ort JDoeBSmitch1_3_8.log"
   ]
  },
  {
   "cell_type": "code",
   "execution_count": 4,
   "metadata": {},
   "outputs": [],
   "source": [
    "def validate():\n",
    "    guess = '1'\n",
    "    answer = 'hangman word'\n",
    "    while guess not in answer:\n",
    "        guess = raw_input ('Name a letter in \\'' + answer + '\\': ')\n",
    "    print('Thank You!')"
   ]
  },
  {
   "cell_type": "code",
   "execution_count": 5,
   "metadata": {},
   "outputs": [],
   "source": [
    "from __future__ import print_function\n",
    "import random\n",
    "\n",
    "def guess_winner(players=('Amy', 'Bill', 'Cathy', 'Dale')):\n",
    "    '''Summarize the function in this doctsring.\n",
    "    \n",
    "    Provide descriptions for the arguments and say what type each one is.\n",
    "    Describe the type and meeaning of the value returned\n",
    "    '''\n",
    "    winner = random.choice(players)\n",
    "    \n",
    "    print('GUess which of these people won the lottery: ',end='')\n",
    "    for p in players[:len(players)-1]:\n",
    "        print(p+', ', end+'')\n",
    "    print(players[len(players)-1])\n",
    "    \n",
    "    guesses = 1\n",
    "    while raw_input() != winner:\n",
    "        print('GUess again!')\n",
    "        guesses += 1\n",
    "    print('You guessed in', guesses, 'guesses!')\n",
    "    return guesses"
   ]
  },
  {
   "cell_type": "code",
   "execution_count": null,
   "metadata": {},
   "outputs": [],
   "source": [
    "def goguess(numbers=(0,1,2,3,4,5,6,7,8,9,10,11,12,13,14,15,16,17,18,19,20)):\n",
    "    winner = random.choice(numbers)\n",
    "    print('I have a number between 1 and 20 what is it?: ',end='')\n",
    "\n",
    "    guesses = 1\n",
    "    while input() != winner:\n",
    "        print('Guess again!')\n",
    "        guesses += 1\n",
    "    print('guesses')\n"
   ]
  },
  {
   "cell_type": "code",
   "execution_count": null,
   "metadata": {},
   "outputs": [],
   "source": [
    "goguess()"
   ]
  },
  {
   "cell_type": "code",
   "execution_count": null,
   "metadata": {},
   "outputs": [],
   "source": [
    "def  goGuess():\n",
    "    guesses = 0\n",
    "    guess = (int(raw_input('Guess a number from 1 to 20: ')))\n",
    "    actual = random.randint(1, 20)\n",
    "    \n",
    "    while guess != actua;:\n",
    "        guesses += 1\n",
    "        if guess < actual:\n",
    "            print str(guess) + ' is too low'\n",
    "        else:\n",
    "            print str(guess) = ' is to high'\n",
    "        guess = (int(raw_input('GUess a number from 1 to 20: ')))\n",
    "        \n",
    "    print 'Correct! <y number is ' + str(actual) + ' You guessed it in ' + str(guesses) + ' guesses!'          "
   ]
  },
  {
   "cell_type": "code",
   "execution_count": null,
   "metadata": {},
   "outputs": [],
   "source": [
    "goGuess()"
   ]
  }
 ],
 "metadata": {
  "kernelspec": {
   "display_name": "Python 3",
   "language": "python",
   "name": "python3"
  },
  "language_info": {
   "codemirror_mode": {
    "name": "ipython",
    "version": 3
   },
   "file_extension": ".py",
   "mimetype": "text/x-python",
   "name": "python",
   "nbconvert_exporter": "python",
   "pygments_lexer": "ipython3",
   "version": "3.7.4"
  }
 },
 "nbformat": 4,
 "nbformat_minor": 2
}
