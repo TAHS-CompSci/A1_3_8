{
 "cells": [
  {
   "cell_type": "code",
   "execution_count": 1,
   "metadata": {},
   "outputs": [],
   "source": [
    "def validate():\n",
    "     guess = '1' # initialization with a bad guess\n",
    "     answer = 'hangman word'\n",
    "     while guess not in answer:\n",
    "         guess = input('Name a letter in \\'' + answer + '\\': ')\n",
    "     print('Thank you!')\n"
   ]
  },
  {
   "cell_type": "code",
   "execution_count": null,
   "metadata": {},
   "outputs": [
    {
     "name": "stdout",
     "output_type": "stream",
     "text": [
      "Name a letter in 'hangman word': H\n"
     ]
    }
   ],
   "source": [
    "validate()"
   ]
  },
  {
   "cell_type": "code",
   "execution_count": null,
   "metadata": {},
   "outputs": [],
   "source": [
    "import random\n",
    " \n",
    "def guess_winner(players=('Amy', 'Bill', 'Cathy', 'Dale')):\n",
    "    winner = random.choice(players) \n",
    "    print('Guess which of these people won the lottery: ',end='')\n",
    "    for p in players[:len(players)-1]: \n",
    "        print(p+', ', end='')\n",
    "    print(players[len(players)-1]) \n",
    "    guesses = 1 \n",
    "    while input() != winner:\n",
    "        print('Guess again!')\n",
    "        guesses += 1\n",
    "    print('You guessed in', guesses, 'guesses!')\n",
    "    return guesses"
   ]
  },
  {
   "cell_type": "code",
   "execution_count": null,
   "metadata": {},
   "outputs": [],
   "source": []
  },
  {
   "cell_type": "code",
   "execution_count": null,
   "metadata": {},
   "outputs": [],
   "source": []
  },
  {
   "cell_type": "code",
   "execution_count": null,
   "metadata": {},
   "outputs": [],
   "source": []
  },
  {
   "cell_type": "code",
   "execution_count": null,
   "metadata": {},
   "outputs": [],
   "source": []
  },
  {
   "cell_type": "code",
   "execution_count": 12,
   "metadata": {},
   "outputs": [],
   "source": [
    "import random \n",
    "number= random.randint(1,20)\n",
    "def goguess():\n",
    "    g_guess= True\n",
    "    tries= 1\n",
    "    print('I have a number between 1 and 20.')\n",
    "    while g_guess:\n",
    "        guess= int(input('guess: '))\n",
    "        if guess == number:\n",
    "            g_guess = False\n",
    "            tries+=1\n",
    "            print ('Right! My number is,',guess,'! You guessed in',tries,'guesses!')\n",
    "            goguess()\n",
    "        if guess > number:\n",
    "            tries += 1\n",
    "            print (guess,'is too high')\n",
    "            goguess()\n",
    "        if guess < number: \n",
    "            tries+=1\n",
    "            print (guess,'is too low')\n",
    "            goguess()"
   ]
  },
  {
   "cell_type": "code",
   "execution_count": 7,
   "metadata": {},
   "outputs": [
    {
     "ename": "NameError",
     "evalue": "name 'goguess' is not defined",
     "output_type": "error",
     "traceback": [
      "\u001b[1;31m---------------------------------------------------------------------------\u001b[0m",
      "\u001b[1;31mNameError\u001b[0m                                 Traceback (most recent call last)",
      "\u001b[1;32m<ipython-input-7-cb9a6abef0af>\u001b[0m in \u001b[0;36m<module>\u001b[1;34m\u001b[0m\n\u001b[1;32m----> 1\u001b[1;33m \u001b[0mgoguess\u001b[0m\u001b[1;33m(\u001b[0m\u001b[1;33m)\u001b[0m\u001b[1;33m\u001b[0m\u001b[1;33m\u001b[0m\u001b[0m\n\u001b[0m",
      "\u001b[1;31mNameError\u001b[0m: name 'goguess' is not defined"
     ]
    }
   ],
   "source": [
    "goguess()"
   ]
  },
  {
   "cell_type": "code",
   "execution_count": 8,
   "metadata": {},
   "outputs": [
    {
     "ename": "NameError",
     "evalue": "name 'goguess' is not defined",
     "output_type": "error",
     "traceback": [
      "\u001b[1;31m---------------------------------------------------------------------------\u001b[0m",
      "\u001b[1;31mNameError\u001b[0m                                 Traceback (most recent call last)",
      "\u001b[1;32m<ipython-input-8-cb9a6abef0af>\u001b[0m in \u001b[0;36m<module>\u001b[1;34m\u001b[0m\n\u001b[1;32m----> 1\u001b[1;33m \u001b[0mgoguess\u001b[0m\u001b[1;33m(\u001b[0m\u001b[1;33m)\u001b[0m\u001b[1;33m\u001b[0m\u001b[1;33m\u001b[0m\u001b[0m\n\u001b[0m",
      "\u001b[1;31mNameError\u001b[0m: name 'goguess' is not defined"
     ]
    }
   ],
   "source": [
    "goguess()"
   ]
  }
 ],
 "metadata": {
  "kernelspec": {
   "display_name": "Python 3",
   "language": "python",
   "name": "python3"
  },
  "language_info": {
   "codemirror_mode": {
    "name": "ipython",
    "version": 3
   },
   "file_extension": ".py",
   "mimetype": "text/x-python",
   "name": "python",
   "nbconvert_exporter": "python",
   "pygments_lexer": "ipython3",
   "version": "3.7.4"
  }
 },
 "nbformat": 4,
 "nbformat_minor": 2
}
