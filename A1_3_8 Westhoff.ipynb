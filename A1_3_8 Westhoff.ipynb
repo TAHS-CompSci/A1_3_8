{
 "cells": [
  {
   "cell_type": "code",
   "execution_count": null,
   "metadata": {},
   "outputs": [],
   "source": [
    "import random\n",
    "guess = input(\"Enter a guess 1 to 100: \")\n",
    "number = random.randint(1,100)\n",
    "def hiLo_game(guess):\n",
    "    print (\"You have 10 guesses...\")\n",
    "    while True:\n",
    "        for x in range(10):\n",
    "            if x > number:\n",
    "                print (\"Too high!\")\n",
    "            elif x < number:\n",
    "                print (\"Too low!\")\n",
    "            else:\n",
    "                print (\"You got it right!\")\n",
    "            guess = input(\"Enter a guess 1 to 100: \")\n",
    "        break\n",
    "def main():\n",
    "    hiLo_game(guess)\n",
    "    return \"Done!\"\n",
    "if __name__ == '__main___':\n",
    "    msg = main()\n",
    "    print(msg)\n",
    "    mainloop()"
   ]
  },
  {
   "cell_type": "code",
   "execution_count": null,
   "metadata": {},
   "outputs": [],
   "source": []
  }
 ],
 "metadata": {
  "kernelspec": {
   "display_name": "Python 3",
   "language": "python",
   "name": "python3"
  },
  "language_info": {
   "codemirror_mode": {
    "name": "ipython",
    "version": 3
   },
   "file_extension": ".py",
   "mimetype": "text/x-python",
   "name": "python",
   "nbconvert_exporter": "python",
   "pygments_lexer": "ipython3",
   "version": "3.7.4"
  }
 },
 "nbformat": 4,
 "nbformat_minor": 2
}
