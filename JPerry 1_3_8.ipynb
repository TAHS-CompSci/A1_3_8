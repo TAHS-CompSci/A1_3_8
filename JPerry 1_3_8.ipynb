{
 "cells": [
  {
   "cell_type": "code",
   "execution_count": 14,
   "metadata": {},
   "outputs": [],
   "source": [
    "def validate():\n",
    "     guess = '1' # initialization with a bad guess\n",
    "     answer = 'hangman word'\n",
    "     while guess not in answer:\n",
    "         guess = input('Name a letter in \\'' + answer + '\\': ')\n",
    "     print('Thank you!')"
   ]
  },
  {
   "cell_type": "code",
   "execution_count": 11,
   "metadata": {},
   "outputs": [],
   "source": [
    "from __future__ import print_function\n",
    "import random\n",
    " \n",
    "def guess_winner(players=('Amy', 'Bill', 'Cathy', 'Dale')):\n",
    "    '''Summarize the function in this docstring.\n",
    "     \n",
    "    Provide descriptions for the arguments and say what type each one is.\n",
    "    Describe the type and meaning of the value returned.\n",
    "    '''\n",
    "    winner = random.choice(players) \n",
    "\n",
    "    ####\n",
    "    # s\n",
    "    ####\n",
    "    print('Guess which of these people won the lottery: ',end='')\n",
    "    for p in players[:len(players)-1]: # explain index here\n",
    "        print(p+', ', end='')\n",
    "    print(players[len(players)-1]) # explain this line here\n",
    "\n",
    "    ####\n",
    "    # Summarize the following section of code here\n",
    "    ####\n",
    "    guesses = 1 \n",
    "    while input() != winner:\n",
    "        print('Guess again!')\n",
    "        guesses += 1\n",
    "    print('You guessed in', guesses, 'guesses!')\n",
    "    return guesses"
   ]
  },
  {
   "cell_type": "code",
   "execution_count": 12,
   "metadata": {},
   "outputs": [
    {
     "name": "stdout",
     "output_type": "stream",
     "text": [
      "Guess which of these people won the lottery: Amy, Bill, Cathy, Dale\n",
      "Bill\n",
      "Guess again!\n",
      "Amy\n",
      "You guessed in 2 guesses!\n"
     ]
    },
    {
     "data": {
      "text/plain": [
       "2"
      ]
     },
     "execution_count": 12,
     "metadata": {},
     "output_type": "execute_result"
    }
   ],
   "source": [
    "guess_winner()"
   ]
  },
  {
   "cell_type": "code",
   "execution_count": 17,
   "metadata": {},
   "outputs": [
    {
     "name": "stdout",
     "output_type": "stream",
     "text": [
      "Name a letter in 'hangman word': no\n",
      "Name a letter in 'hangman word': ;\n",
      "Name a letter in 'hangman word': l;\n",
      "Name a letter in 'hangman word': fg\n",
      "Name a letter in 'hangman word': j\n",
      "Name a letter in 'hangman word': y\n",
      "Name a letter in 'hangman word': h\n",
      "Thank you!\n"
     ]
    }
   ],
   "source": [
    "validate()"
   ]
  },
  {
   "cell_type": "code",
   "execution_count": 5,
   "metadata": {},
   "outputs": [],
   "source": [
    "import random\n",
    "\n",
    "def goguess(numbers=(1,2,3,4,5,6,7,8,9,10,11,12,13,14,15,16,17,18,19,20)):\n",
    "    winner = random.choice(numbers)\n",
    "    print('I have a number between 1 and 20. What is it?' ,end= '')\n",
    "    for n in numbers[:len(numbers)-1]:\n",
    "        print(n+', ', end='')\n",
    "    print(numbers[len(numbers)-1])\n",
    "    guesses = 1\n",
    "    if input() < winner:\n",
    "        print('Too low, guess again')\n",
    "    if input() > winner:\n",
    "        print('Is too High, guess again')\n",
    "        guesses += 1\n",
    "    print('You guessed in', guesses, 'guesses!')\n",
    "    return winner\n"
   ]
  },
  {
   "cell_type": "code",
   "execution_count": 6,
   "metadata": {},
   "outputs": [
    {
     "name": "stdout",
     "output_type": "stream",
     "text": [
      "I have a number between 1 and 20. What is it?"
     ]
    },
    {
     "ename": "TypeError",
     "evalue": "unsupported operand type(s) for +: 'int' and 'str'",
     "output_type": "error",
     "traceback": [
      "\u001b[1;31m---------------------------------------------------------------------------\u001b[0m",
      "\u001b[1;31mTypeError\u001b[0m                                 Traceback (most recent call last)",
      "\u001b[1;32m<ipython-input-6-cb9a6abef0af>\u001b[0m in \u001b[0;36m<module>\u001b[1;34m\u001b[0m\n\u001b[1;32m----> 1\u001b[1;33m \u001b[0mgoguess\u001b[0m\u001b[1;33m(\u001b[0m\u001b[1;33m)\u001b[0m\u001b[1;33m\u001b[0m\u001b[1;33m\u001b[0m\u001b[0m\n\u001b[0m",
      "\u001b[1;32m<ipython-input-5-af1736097452>\u001b[0m in \u001b[0;36mgoguess\u001b[1;34m(numbers)\u001b[0m\n\u001b[0;32m      5\u001b[0m     \u001b[0mprint\u001b[0m\u001b[1;33m(\u001b[0m\u001b[1;34m'I have a number between 1 and 20. What is it?'\u001b[0m \u001b[1;33m,\u001b[0m\u001b[0mend\u001b[0m\u001b[1;33m=\u001b[0m \u001b[1;34m''\u001b[0m\u001b[1;33m)\u001b[0m\u001b[1;33m\u001b[0m\u001b[1;33m\u001b[0m\u001b[0m\n\u001b[0;32m      6\u001b[0m     \u001b[1;32mfor\u001b[0m \u001b[0mn\u001b[0m \u001b[1;32min\u001b[0m \u001b[0mnumbers\u001b[0m\u001b[1;33m[\u001b[0m\u001b[1;33m:\u001b[0m\u001b[0mlen\u001b[0m\u001b[1;33m(\u001b[0m\u001b[0mnumbers\u001b[0m\u001b[1;33m)\u001b[0m\u001b[1;33m-\u001b[0m\u001b[1;36m1\u001b[0m\u001b[1;33m]\u001b[0m\u001b[1;33m:\u001b[0m\u001b[1;33m\u001b[0m\u001b[1;33m\u001b[0m\u001b[0m\n\u001b[1;32m----> 7\u001b[1;33m         \u001b[0mprint\u001b[0m\u001b[1;33m(\u001b[0m\u001b[0mn\u001b[0m\u001b[1;33m+\u001b[0m\u001b[1;34m', '\u001b[0m\u001b[1;33m,\u001b[0m \u001b[0mend\u001b[0m\u001b[1;33m=\u001b[0m\u001b[1;34m''\u001b[0m\u001b[1;33m)\u001b[0m\u001b[1;33m\u001b[0m\u001b[1;33m\u001b[0m\u001b[0m\n\u001b[0m\u001b[0;32m      8\u001b[0m     \u001b[0mprint\u001b[0m\u001b[1;33m(\u001b[0m\u001b[0mnumbers\u001b[0m\u001b[1;33m[\u001b[0m\u001b[0mlen\u001b[0m\u001b[1;33m(\u001b[0m\u001b[0mnumbers\u001b[0m\u001b[1;33m)\u001b[0m\u001b[1;33m-\u001b[0m\u001b[1;36m1\u001b[0m\u001b[1;33m]\u001b[0m\u001b[1;33m)\u001b[0m\u001b[1;33m\u001b[0m\u001b[1;33m\u001b[0m\u001b[0m\n\u001b[0;32m      9\u001b[0m     \u001b[0mguesses\u001b[0m \u001b[1;33m=\u001b[0m \u001b[1;36m1\u001b[0m\u001b[1;33m\u001b[0m\u001b[1;33m\u001b[0m\u001b[0m\n",
      "\u001b[1;31mTypeError\u001b[0m: unsupported operand type(s) for +: 'int' and 'str'"
     ]
    }
   ],
   "source": [
    "goguess()"
   ]
  },
  {
   "cell_type": "code",
   "execution_count": null,
   "metadata": {},
   "outputs": [],
   "source": []
  }
 ],
 "metadata": {
  "kernelspec": {
   "display_name": "Python 3",
   "language": "python",
   "name": "python3"
  },
  "language_info": {
   "codemirror_mode": {
    "name": "ipython",
    "version": 3
   },
   "file_extension": ".py",
   "mimetype": "text/x-python",
   "name": "python",
   "nbconvert_exporter": "python",
   "pygments_lexer": "ipython3",
   "version": "3.7.4"
  }
 },
 "nbformat": 4,
 "nbformat_minor": 2
}
